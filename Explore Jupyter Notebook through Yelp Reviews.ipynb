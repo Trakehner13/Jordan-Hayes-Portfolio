{
 "cells": [
  {
   "cell_type": "markdown",
   "metadata": {},
   "source": [
    "#   Exploration of Jupyter Notebook: Yelp Reviews"
   ]
  },
  {
   "cell_type": "markdown",
   "metadata": {},
   "source": [
    "**Original Noteboook:**\n",
    "https://nbviewer.jupyter.org/github/xun-tang/pyladies_jupyter_demo/blob/master/Predict_Review_Five_Star_Rating.ipynb\n",
    "\n",
    "**Author:** Xun Tang"
   ]
  },
  {
   "cell_type": "markdown",
   "metadata": {},
   "source": [
    "**Summary of Original Notebook:**\n",
    "\n",
    "In the above linked Jupyter Notebook, based on a user's past reviews on Yelp, the author tries to predict how likely a review will be five stars when the user rates a business they have never previously reviewed. The author uses the python libraries pandas, seaborn, matplotlib, sklearn and numpy to visualize the data and imploy a logistic regression model on a Yelp-challenge data set. \n",
    "\n",
    "The author uses the pandas library to create a dataframe of the preprocessed data. They then use seaborn and matplotlib to visualize the data frame and analysize the data before processing. Jupyter Notebook's markdown cells are utilized to delineate the authors approach at each step. Next the author works with pandas again to perform feature engineering on the data frame to prepare the data for logistic regression. After preparing the data, the author uses the sklearn library to instantiate training and test sets and then perform the actual calculations of logistic regression and cross-validation. The performance of the logistics regression model is then evaluated using sklearn, numpy and matplotlib to visualize the model's performance metrics in Jupter Notebook. After the model is created and evaluated, the author lastly uses the model to predict if a specific review is 5 stars or not. In this final section, the author takes advantage of Jupyter Notebook's ability to incorporate images and integrate with the web to include screen shots and links for the actual reviews on Yelp."
   ]
  },
  {
   "cell_type": "markdown",
   "metadata": {},
   "source": [
    "**Proposed New Problem:**\n",
    "\n",
    "The original notebook used logistic regression to predict a binary outcome and utilized information from three separate files of the Yelp-challenge data set.\n",
    "\n",
    "A smaller problem set I wish to look at will examine only one file from the data set and determine if a review has at least one useful vote how likely is it to be a four or five star review?"
   ]
  },
  {
   "cell_type": "markdown",
   "metadata": {},
   "source": [
    "**Problem Solving Approach:**\n",
    "\n",
    "(1) Load Data\n",
    "\n",
    "(2) Visualize Data\n",
    "\n",
    "(3) Feature Engineering\n",
    "\n",
    "(4) Create Logistic Regression Model\n",
    "\n",
    "(5) Evaluate Model\n"
   ]
  },
  {
   "cell_type": "markdown",
   "metadata": {},
   "source": [
    "## Load Data "
   ]
  },
  {
   "cell_type": "markdown",
   "metadata": {},
   "source": [
    "***\n",
    "The data set for the Yelp challenge has over 6 million entries, which is too large for my machine to handle, so I will only import 1000 entries from one of the files.\n",
    "***"
   ]
  },
  {
   "cell_type": "code",
   "execution_count": 1,
   "metadata": {},
   "outputs": [],
   "source": [
    "# Import library to create and handle dataframes as well as manipulate the information in the dataframes.\n",
    "import pandas as pd"
   ]
  },
  {
   "cell_type": "code",
   "execution_count": 2,
   "metadata": {},
   "outputs": [],
   "source": [
    "url = 'https://drive.google.com/file/d/1BnO0KoshmhBF_6fAVoc1fvZ7lEK3r4JK/view?usp=sharing'\n",
    "path = 'https://drive.google.com/uc?export=download&id='+url.split('/')[-2]\n",
    "review_df = pd.read_csv(path)"
   ]
  },
  {
   "cell_type": "markdown",
   "metadata": {},
   "source": [
    "### View first rows of each data frame"
   ]
  },
  {
   "cell_type": "code",
   "execution_count": 3,
   "metadata": {},
   "outputs": [
    {
     "data": {
      "text/html": [
       "<div>\n",
       "<style scoped>\n",
       "    .dataframe tbody tr th:only-of-type {\n",
       "        vertical-align: middle;\n",
       "    }\n",
       "\n",
       "    .dataframe tbody tr th {\n",
       "        vertical-align: top;\n",
       "    }\n",
       "\n",
       "    .dataframe thead th {\n",
       "        text-align: right;\n",
       "    }\n",
       "</style>\n",
       "<table border=\"1\" class=\"dataframe\">\n",
       "  <thead>\n",
       "    <tr style=\"text-align: right;\">\n",
       "      <th></th>\n",
       "      <th>review_id</th>\n",
       "      <th>user_id</th>\n",
       "      <th>business_id</th>\n",
       "      <th>stars</th>\n",
       "      <th>useful</th>\n",
       "      <th>funny</th>\n",
       "      <th>cool</th>\n",
       "      <th>text</th>\n",
       "      <th>date</th>\n",
       "    </tr>\n",
       "  </thead>\n",
       "  <tbody>\n",
       "    <tr>\n",
       "      <th>0</th>\n",
       "      <td>lWC-xP3rd6obsecCYsGZRg</td>\n",
       "      <td>ak0TdVmGKo4pwqdJSTLwWw</td>\n",
       "      <td>buF9druCkbuXLX526sGELQ</td>\n",
       "      <td>4</td>\n",
       "      <td>3</td>\n",
       "      <td>1</td>\n",
       "      <td>1</td>\n",
       "      <td>Apparently Prides Osteria had a rough summer a...</td>\n",
       "      <td>2014-10-11 03:34:02</td>\n",
       "    </tr>\n",
       "    <tr>\n",
       "      <th>1</th>\n",
       "      <td>8bFej1QE5LXp4O05qjGqXA</td>\n",
       "      <td>YoVfDbnISlW0f7abNQACIg</td>\n",
       "      <td>RA4V8pr014UyUbDvI-LW2A</td>\n",
       "      <td>4</td>\n",
       "      <td>1</td>\n",
       "      <td>0</td>\n",
       "      <td>0</td>\n",
       "      <td>This store is pretty good. Not as great as Wal...</td>\n",
       "      <td>2015-07-03 20:38:25</td>\n",
       "    </tr>\n",
       "    <tr>\n",
       "      <th>2</th>\n",
       "      <td>NDhkzczKjLshODbqDoNLSg</td>\n",
       "      <td>eC5evKn1TWDyHCyQAwguUw</td>\n",
       "      <td>_sS2LBIGNT5NQb6PD1Vtjw</td>\n",
       "      <td>5</td>\n",
       "      <td>0</td>\n",
       "      <td>0</td>\n",
       "      <td>0</td>\n",
       "      <td>I called WVM on the recommendation of a couple...</td>\n",
       "      <td>2013-05-28 20:38:06</td>\n",
       "    </tr>\n",
       "    <tr>\n",
       "      <th>3</th>\n",
       "      <td>T5fAqjjFooT4V0OeZyuk1w</td>\n",
       "      <td>SFQ1jcnGguO0LYWnbbftAA</td>\n",
       "      <td>0AzLzHfOJgL7ROwhdww2ew</td>\n",
       "      <td>2</td>\n",
       "      <td>1</td>\n",
       "      <td>1</td>\n",
       "      <td>1</td>\n",
       "      <td>I've stayed at many Marriott and Renaissance M...</td>\n",
       "      <td>2010-01-08 02:29:15</td>\n",
       "    </tr>\n",
       "    <tr>\n",
       "      <th>4</th>\n",
       "      <td>sjm_uUcQVxab_EeLCqsYLg</td>\n",
       "      <td>0kA0PAJ8QFMeveQWHFqz2A</td>\n",
       "      <td>8zehGz9jnxPqXtOc7KaJxA</td>\n",
       "      <td>4</td>\n",
       "      <td>0</td>\n",
       "      <td>0</td>\n",
       "      <td>0</td>\n",
       "      <td>The food is always great here. The service fro...</td>\n",
       "      <td>2011-07-28 18:05:01</td>\n",
       "    </tr>\n",
       "  </tbody>\n",
       "</table>\n",
       "</div>"
      ],
      "text/plain": [
       "                review_id                 user_id             business_id  \\\n",
       "0  lWC-xP3rd6obsecCYsGZRg  ak0TdVmGKo4pwqdJSTLwWw  buF9druCkbuXLX526sGELQ   \n",
       "1  8bFej1QE5LXp4O05qjGqXA  YoVfDbnISlW0f7abNQACIg  RA4V8pr014UyUbDvI-LW2A   \n",
       "2  NDhkzczKjLshODbqDoNLSg  eC5evKn1TWDyHCyQAwguUw  _sS2LBIGNT5NQb6PD1Vtjw   \n",
       "3  T5fAqjjFooT4V0OeZyuk1w  SFQ1jcnGguO0LYWnbbftAA  0AzLzHfOJgL7ROwhdww2ew   \n",
       "4  sjm_uUcQVxab_EeLCqsYLg  0kA0PAJ8QFMeveQWHFqz2A  8zehGz9jnxPqXtOc7KaJxA   \n",
       "\n",
       "   stars  useful  funny  cool  \\\n",
       "0      4       3      1     1   \n",
       "1      4       1      0     0   \n",
       "2      5       0      0     0   \n",
       "3      2       1      1     1   \n",
       "4      4       0      0     0   \n",
       "\n",
       "                                                text                 date  \n",
       "0  Apparently Prides Osteria had a rough summer a...  2014-10-11 03:34:02  \n",
       "1  This store is pretty good. Not as great as Wal...  2015-07-03 20:38:25  \n",
       "2  I called WVM on the recommendation of a couple...  2013-05-28 20:38:06  \n",
       "3  I've stayed at many Marriott and Renaissance M...  2010-01-08 02:29:15  \n",
       "4  The food is always great here. The service fro...  2011-07-28 18:05:01  "
      ]
     },
     "execution_count": 3,
     "metadata": {},
     "output_type": "execute_result"
    }
   ],
   "source": [
    "#This pandas function allows for examination the columns and observation of the data in certain rows.\n",
    "review_df.head()"
   ]
  },
  {
   "cell_type": "markdown",
   "metadata": {},
   "source": [
    "### Determine unique values and counts of the relevant columns"
   ]
  },
  {
   "cell_type": "code",
   "execution_count": 4,
   "metadata": {},
   "outputs": [
    {
     "data": {
      "text/plain": [
       "0     580\n",
       "1     218\n",
       "2      72\n",
       "3      50\n",
       "4      35\n",
       "5      18\n",
       "6       7\n",
       "8       6\n",
       "7       5\n",
       "12      3\n",
       "16      2\n",
       "49      1\n",
       "27      1\n",
       "13      1\n",
       "9       1\n",
       "Name: useful, dtype: int64"
      ]
     },
     "execution_count": 4,
     "metadata": {},
     "output_type": "execute_result"
    }
   ],
   "source": [
    "# This pandas function is helpful in evaluating the number of unique values in the useful field \n",
    "# and how many observations pertain to each value.\n",
    "review_df['useful'].value_counts()"
   ]
  },
  {
   "cell_type": "markdown",
   "metadata": {},
   "source": [
    "***\n",
    "It looks like most reviews do not have any votes for usefulness.\n",
    "***"
   ]
  },
  {
   "cell_type": "code",
   "execution_count": 5,
   "metadata": {},
   "outputs": [
    {
     "data": {
      "text/plain": [
       "5    387\n",
       "4    283\n",
       "1    123\n",
       "3    117\n",
       "2     90\n",
       "Name: stars, dtype: int64"
      ]
     },
     "execution_count": 5,
     "metadata": {},
     "output_type": "execute_result"
    }
   ],
   "source": [
    "# This pandas function is helpful in evaluating the number of unique values in the stars field \n",
    "# and how many observations pertain to each value.\n",
    "review_df['stars'].value_counts()"
   ]
  },
  {
   "cell_type": "markdown",
   "metadata": {},
   "source": [
    "***\n",
    "It looks like most are either a four or five star.\n",
    "***"
   ]
  },
  {
   "cell_type": "markdown",
   "metadata": {},
   "source": [
    "## Visualize Data"
   ]
  },
  {
   "cell_type": "code",
   "execution_count": 6,
   "metadata": {},
   "outputs": [],
   "source": [
    "# The seaborn and matplotlib libraries are used for the creation and formating\n",
    "# of data visualization tools like charts and graphs and the inline call of matplotlib will allow the outputs\n",
    "# to appear and be stored within the notebook.\n",
    "import seaborn as sns\n",
    "%matplotlib inline\n",
    "import matplotlib.pyplot as plt\n",
    "\n",
    "# Set context to \"paper\" for figure aesthetics \n",
    "# The original notebook set this to \"talk\", but as this notebook will not be presented on a large stage\n",
    "# \"paper\" is more appropriate\n",
    "sns.set_context(context=\"paper\")\n",
    "# set plot color palette and axis style\n",
    "sns.set(palette='winter',rc={\"figure.figsize\": (25, 5)}, style=\"ticks\")"
   ]
  },
  {
   "cell_type": "markdown",
   "metadata": {},
   "source": [
    "### Distribution of Star Ratings"
   ]
  },
  {
   "cell_type": "code",
   "execution_count": 7,
   "metadata": {},
   "outputs": [
    {
     "data": {
      "image/png": "[encoded data removed]",
      "text/plain": [
       "<Figure size 1800x360 with 5 Axes>"
      ]
     },
     "metadata": {},
     "output_type": "display_data"
    }
   ],
   "source": [
    "# Pandas is used to seperate dateframes by star ratings\n",
    "one_star_df = review_df[review_df.stars == 1]\n",
    "two_star_df = review_df[review_df.stars == 2]\n",
    "three_star_df = review_df[review_df.stars == 3]\n",
    "four_star_df = review_df[review_df.stars == 4]\n",
    "five_star_df = review_df[review_df.stars == 5]\n",
    "\n",
    "# Seaborn is used to create countplots and matplotlib is used to organize the plots next to eachother.\n",
    "plt.subplot(1,5,1)\n",
    "ax1 = sns.countplot(x='stars', data=one_star_df, hue='useful')\n",
    "plt.subplot(1,5,2)\n",
    "ax2 = sns.countplot(x='stars', data=two_star_df, hue='useful')\n",
    "plt.subplot(1,5,3)\n",
    "ax3 = sns.countplot(x='stars', data=three_star_df, hue='useful')\n",
    "plt.subplot(1,5,4)\n",
    "ax4 = sns.countplot(x='stars', data=four_star_df, hue='useful')\n",
    "plt.subplot(1,5,5)\n",
    "ax5 = sns.countplot(x='stars', data=five_star_df, hue='useful')\n"
   ]
  },
  {
   "cell_type": "markdown",
   "metadata": {},
   "source": [
    "***\n",
    "It looks like five-star and four-star reviews may have the most usefulness votes.\n",
    "***"
   ]
  },
  {
   "cell_type": "code",
   "execution_count": 8,
   "metadata": {},
   "outputs": [
    {
     "name": "stdout",
     "output_type": "stream",
     "text": [
      "Five star votes: 365\n",
      "Four star votes: 250\n",
      "Three star votes: 77\n",
      "Two star votes: 108\n",
      "One star votes: 233\n"
     ]
    },
    {
     "data": {
      "text/plain": [
       "<function matplotlib.pyplot.show(close=None, block=None)>"
      ]
     },
     "execution_count": 8,
     "metadata": {},
     "output_type": "execute_result"
    },
    {
     "data": {
      "image/png": "[encoded data removed]",
      "text/plain": [
       "<Figure size 1800x360 with 1 Axes>"
      ]
     },
     "metadata": {},
     "output_type": "display_data"
    }
   ],
   "source": [
    "# Use pandas to count the number of useful votes each star rating has.\n",
    "total_5star_votes = five_star_df['useful'].sum()\n",
    "total_4star_votes = four_star_df['useful'].sum()\n",
    "total_3star_votes = three_star_df['useful'].sum()\n",
    "total_2star_votes = two_star_df['useful'].sum()\n",
    "total_1star_votes = one_star_df['useful'].sum()\n",
    "\n",
    "print('Five star votes:',total_5star_votes)\n",
    "print('Four star votes:',total_4star_votes)\n",
    "print('Three star votes:',total_3star_votes)\n",
    "print('Two star votes:',total_2star_votes)\n",
    "print('One star votes:',total_1star_votes)\n",
    "\n",
    "#Use matplotlib to visualize the proportion of usefulness votes among the star ratings.\n",
    "model = ['5 Star Votes','4 Star Votes','3 Star Votes','2 Star Votes','1 Star Votes']\n",
    "numbers = [total_5star_votes,total_4star_votes,total_3star_votes,total_2star_votes,total_1star_votes]\n",
    "plt.pie(numbers,labels=model,autopct='%0.1f%%',colors = ['red','orange','yellow','cyan','green'])\n",
    "plt.show"
   ]
  },
  {
   "cell_type": "markdown",
   "metadata": {},
   "source": [
    "***\n",
    "It looks like five-star and four-star reviews have the most usefulness votes followed by one-star reviews.\n",
    "***"
   ]
  },
  {
   "cell_type": "markdown",
   "metadata": {},
   "source": [
    "## Feature Engineering"
   ]
  },
  {
   "cell_type": "code",
   "execution_count": 9,
   "metadata": {},
   "outputs": [
    {
     "data": {
      "text/plain": [
       "Index(['review_id', 'user_id', 'business_id', 'stars', 'useful', 'funny',\n",
       "       'cool', 'text', 'date'],\n",
       "      dtype='object')"
      ]
     },
     "execution_count": 9,
     "metadata": {},
     "output_type": "execute_result"
    }
   ],
   "source": [
    "# Use pandas to copy data frame and display column names\n",
    "df = review_df.copy()\n",
    "df.columns"
   ]
  },
  {
   "cell_type": "code",
   "execution_count": 10,
   "metadata": {},
   "outputs": [],
   "source": [
    "# Use pandas to drop unneeded columns.\n",
    "columns = ['user_id','review_id','business_id','funny','cool','text','date']\n",
    "for column in columns:\n",
    "    df.drop(column, axis = 1, inplace = True)"
   ]
  },
  {
   "cell_type": "code",
   "execution_count": 11,
   "metadata": {},
   "outputs": [
    {
     "data": {
      "text/html": [
       "<div>\n",
       "<style scoped>\n",
       "    .dataframe tbody tr th:only-of-type {\n",
       "        vertical-align: middle;\n",
       "    }\n",
       "\n",
       "    .dataframe tbody tr th {\n",
       "        vertical-align: top;\n",
       "    }\n",
       "\n",
       "    .dataframe thead th {\n",
       "        text-align: right;\n",
       "    }\n",
       "</style>\n",
       "<table border=\"1\" class=\"dataframe\">\n",
       "  <thead>\n",
       "    <tr style=\"text-align: right;\">\n",
       "      <th></th>\n",
       "      <th>stars</th>\n",
       "      <th>useful</th>\n",
       "    </tr>\n",
       "  </thead>\n",
       "  <tbody>\n",
       "    <tr>\n",
       "      <th>0</th>\n",
       "      <td>4</td>\n",
       "      <td>3</td>\n",
       "    </tr>\n",
       "    <tr>\n",
       "      <th>1</th>\n",
       "      <td>4</td>\n",
       "      <td>1</td>\n",
       "    </tr>\n",
       "    <tr>\n",
       "      <th>2</th>\n",
       "      <td>5</td>\n",
       "      <td>0</td>\n",
       "    </tr>\n",
       "    <tr>\n",
       "      <th>3</th>\n",
       "      <td>2</td>\n",
       "      <td>1</td>\n",
       "    </tr>\n",
       "    <tr>\n",
       "      <th>4</th>\n",
       "      <td>4</td>\n",
       "      <td>0</td>\n",
       "    </tr>\n",
       "  </tbody>\n",
       "</table>\n",
       "</div>"
      ],
      "text/plain": [
       "   stars  useful\n",
       "0      4       3\n",
       "1      4       1\n",
       "2      5       0\n",
       "3      2       1\n",
       "4      4       0"
      ]
     },
     "execution_count": 11,
     "metadata": {},
     "output_type": "execute_result"
    }
   ],
   "source": [
    "# View data frame with columns dropped\n",
    "df.head()"
   ]
  },
  {
   "cell_type": "code",
   "execution_count": 12,
   "metadata": {},
   "outputs": [
    {
     "data": {
      "text/plain": [
       "stars     0\n",
       "useful    0\n",
       "dtype: int64"
      ]
     },
     "execution_count": 12,
     "metadata": {},
     "output_type": "execute_result"
    }
   ],
   "source": [
    "# Use pandas to check for missing values.\n",
    "df.isnull().sum()"
   ]
  },
  {
   "cell_type": "markdown",
   "metadata": {},
   "source": [
    "## Logistic Regression Model"
   ]
  },
  {
   "cell_type": "code",
   "execution_count": 13,
   "metadata": {},
   "outputs": [],
   "source": [
    "# Import sklearn and numpy to implement logistic regression models.\n",
    "from sklearn.model_selection import train_test_split\n",
    "from sklearn import linear_model\n",
    "from sklearn.linear_model import LogisticRegression\n",
    "import numpy as np"
   ]
  },
  {
   "cell_type": "code",
   "execution_count": 14,
   "metadata": {},
   "outputs": [],
   "source": [
    "y = df.stars.apply(lambda x: x >= 4)  #Labels Dependent Variables\n",
    "X = df\n",
    "df.drop('stars', axis=1, inplace=True) # Labels Target Variable"
   ]
  },
  {
   "cell_type": "code",
   "execution_count": 15,
   "metadata": {},
   "outputs": [
    {
     "name": "stdout",
     "output_type": "stream",
     "text": [
      "(750, 1) (250, 1)\n"
     ]
    }
   ],
   "source": [
    "# Split data into training and test set:\n",
    "X_train, X_test, y_train, y_test = train_test_split(X, y)\n",
    "print(X_train.shape, X_test.shape)"
   ]
  },
  {
   "cell_type": "code",
   "execution_count": 16,
   "metadata": {},
   "outputs": [
    {
     "name": "stderr",
     "output_type": "stream",
     "text": [
      "[Parallel(n_jobs=-1)]: Using backend LokyBackend with 4 concurrent workers.\n",
      "[Parallel(n_jobs=-1)]: Done   1 out of   1 | elapsed:    1.7s finished\n"
     ]
    },
    {
     "data": {
      "text/plain": [
       "LogisticRegression(max_iter=1000, n_jobs=-1, penalty='none', random_state=0,\n",
       "                   solver='newton-cg', verbose=True)"
      ]
     },
     "execution_count": 16,
     "metadata": {},
     "output_type": "execute_result"
    }
   ],
   "source": [
    "logreg = LogisticRegression(solver='newton-cg',max_iter=1000,penalty='none',verbose=True,n_jobs=-1,random_state=0)\n",
    "\n",
    "# Set optimizer as 'newton-cg' with max_iter equal to 1000 \n",
    "# max_iter indicates number of iteration needed to converge\n",
    "\n",
    "# Use sklearns to create regression model\n",
    "logreg.fit(X_train, y_train)"
   ]
  },
  {
   "cell_type": "markdown",
   "metadata": {},
   "source": [
    "## Evaluate Model"
   ]
  },
  {
   "cell_type": "code",
   "execution_count": 17,
   "metadata": {},
   "outputs": [],
   "source": [
    "#Use the regression model to make predictions on the training set\n",
    "pred_train = logreg.predict(X_train)\n",
    "\n",
    "# import from sklearn metrics to evaluate the model created above\n",
    "from sklearn.metrics import classification_report,confusion_matrix\n",
    "\n",
    "# Create a function to make a confussion matrix to test outcomes of the predictions\n",
    "# This is a function I found in a data science course on logistic regression.\n",
    "def make_confusion_matrix(y_actual,y_predict,labels=[1, 0]):\n",
    "    '''\n",
    "    y_predict: prediction of class\n",
    "    y_actual : ground truth  \n",
    "    '''\n",
    "    cm=confusion_matrix( y_actual,y_predict, labels=[1, 0])\n",
    "    df_cm = pd.DataFrame(cm, index = [i for i in [\"1\",\"0\"]],\n",
    "                  columns = [i for i in ['Loan','No Loan']])\n",
    "    group_counts = [\"{0:0.0f}\".format(value) for value in\n",
    "                cm.flatten()]\n",
    "    group_percentages = [\"{0:.2%}\".format(value) for value in\n",
    "                         cm.flatten()/np.sum(cm)]\n",
    "    labels = [f\"{v1}\\n{v2}\" for v1, v2 in\n",
    "              zip(group_counts,group_percentages)]\n",
    "    labels = np.asarray(labels).reshape(2,2)\n",
    "    plt.figure(figsize = (10,7))\n",
    "    sns.heatmap(df_cm, annot=labels,fmt='')\n",
    "    plt.ylabel('True label')\n",
    "    plt.xlabel('Predicted label')"
   ]
  },
  {
   "cell_type": "code",
   "execution_count": 18,
   "metadata": {},
   "outputs": [
    {
     "data": {
      "image/png": "[encoded data removed]",
      "text/plain": [
       "<Figure size 720x504 with 2 Axes>"
      ]
     },
     "metadata": {},
     "output_type": "display_data"
    }
   ],
   "source": [
    "# Create confusion matrix on training set\n",
    "make_confusion_matrix(y_train,pred_train)"
   ]
  },
  {
   "cell_type": "code",
   "execution_count": 19,
   "metadata": {},
   "outputs": [],
   "source": [
    "#Now use the regression model to make predictions on the training set\n",
    "pred_test = logreg.predict(X_test)"
   ]
  },
  {
   "cell_type": "code",
   "execution_count": 20,
   "metadata": {},
   "outputs": [
    {
     "data": {
      "image/png": "[encoded data removed]",
      "text/plain": [
       "<Figure size 720x504 with 2 Axes>"
      ]
     },
     "metadata": {},
     "output_type": "display_data"
    }
   ],
   "source": [
    "# Create confusion matrix on training set\n",
    "make_confusion_matrix(y_test,pred_test)"
   ]
  },
  {
   "cell_type": "code",
   "execution_count": 21,
   "metadata": {},
   "outputs": [
    {
     "name": "stdout",
     "output_type": "stream",
     "text": [
      "Accuracy on train data: 0.6746666666666666\n",
      "Accuracy on test data: 0.652\n"
     ]
    }
   ],
   "source": [
    "#Use Sklearn to measure the accuracy of the training predictions and test predictions performed above.\n",
    "from sklearn.metrics import accuracy_score\n",
    "print('Accuracy on train data:',accuracy_score(y_train, pred_train) )\n",
    "print('Accuracy on test data:',accuracy_score(y_test, pred_test))"
   ]
  },
  {
   "cell_type": "markdown",
   "metadata": {},
   "source": [
    "***\n",
    "The model predicted with over 65% accuracy whether a review was 4 stars or higher based on the usefulness votes.\n",
    "***"
   ]
  }
 ],
 "metadata": {
  "kernelspec": {
   "display_name": "Python 3",
   "language": "python",
   "name": "python3"
  },
  "language_info": {
   "codemirror_mode": {
    "name": "ipython",
    "version": 3
   },
   "file_extension": ".py",
   "mimetype": "text/x-python",
   "name": "python",
   "nbconvert_exporter": "python",
   "pygments_lexer": "ipython3",
   "version": "3.8.5"
  }
 },
 "nbformat": 4,
 "nbformat_minor": 4
}
